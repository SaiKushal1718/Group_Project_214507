{
  "nbformat": 4,
  "nbformat_minor": 0,
  "metadata": {
    "colab": {
      "name": "Python Final.ipynb",
      "provenance": [],
      "collapsed_sections": [],
      "include_colab_link": true
    },
    "kernelspec": {
      "name": "python3",
      "display_name": "Python 3"
    },
    "language_info": {
      "name": "python"
    }
  },
  "cells": [
    {
      "cell_type": "markdown",
      "metadata": {
        "id": "view-in-github",
        "colab_type": "text"
      },
      "source": [
        "<a href=\"https://colab.research.google.com/github/SaiKushal1718/Group_Project_214507/blob/main/Python_Final.ipynb\" target=\"_parent\"><img src=\"https://colab.research.google.com/assets/colab-badge.svg\" alt=\"Open In Colab\"/></a>"
      ]
    },
    {
      "cell_type": "code",
      "source": [
        "my_dict = {}\n",
        "my_dict = {'name': 'Pawan', 'age': 24, 'place': 'Parthi'}\n",
        "my_dict['age'] = 27 \n",
        "print(my_dict['name'])\n",
        "print(my_dict.get('age'))\n",
        "print(my_dict.get('place'))"
      ],
      "metadata": {
        "id": "-4QYnEyKlATA",
        "colab": {
          "base_uri": "https://localhost:8080/"
        },
        "outputId": "e143d53a-a2e8-4e24-8f91-17c258c820fd"
      },
      "execution_count": null,
      "outputs": [
        {
          "output_type": "stream",
          "name": "stdout",
          "text": [
            "Pawan\n",
            "27\n",
            "Parthi\n"
          ]
        }
      ]
    },
    {
      "cell_type": "code",
      "source": [
        "squares = {1: 1, 2: 4, 3: 9, 4: 16, 5: 25}\n",
        "print(squares.pop(4))"
      ],
      "metadata": {
        "colab": {
          "base_uri": "https://localhost:8080/"
        },
        "id": "W64NM7Ji5oVM",
        "outputId": "6bccade0-bfd6-4800-c6d8-ee7e95158147"
      },
      "execution_count": null,
      "outputs": [
        {
          "output_type": "stream",
          "name": "stdout",
          "text": [
            "16\n"
          ]
        }
      ]
    },
    {
      "cell_type": "code",
      "source": [
        "squares = {1: 1, 2: 4, 3: 9, 5: 25}\n",
        "print(squares.popitem())\n"
      ],
      "metadata": {
        "colab": {
          "base_uri": "https://localhost:8080/"
        },
        "id": "lPRRZe4h6MM3",
        "outputId": "2b5d2358-0a7d-4495-8790-9812d5e17f69"
      },
      "execution_count": null,
      "outputs": [
        {
          "output_type": "stream",
          "name": "stdout",
          "text": [
            "(5, 25)\n"
          ]
        }
      ]
    },
    {
      "cell_type": "code",
      "source": [
        "# Finding your Body Mass Index (BMI)\n",
        "name = input(\"Enter your name:\")\n",
        "weight = float(input(\"Enter your weight in KG :\"))\n",
        "height = float(input(\"Enter your height in meters :\"))\n",
        "bmi =  weight/(height**2)\n",
        "print(\"your Bmi is \",bmi)\n",
        "if bmi <=18.5:\n",
        "  print (\" You are Underweight\")\n",
        "elif bmi <=25.0:\n",
        "  print (\" You are FIT\")\n",
        "elif bmi <=30.0: \n",
        "  print (\" You are Overweight\")\n",
        "else:\n",
        "  print(\"You are Obese\")  \n"
      ],
      "metadata": {
        "id": "W1PTt6oJK4TS",
        "colab": {
          "base_uri": "https://localhost:8080/"
        },
        "outputId": "f68686e8-0358-439a-8d16-fdc07caa0891"
      },
      "execution_count": null,
      "outputs": [
        {
          "output_type": "stream",
          "name": "stdout",
          "text": [
            "Enter your name:sai\n",
            "Enter your weight in KG :56\n",
            "Enter your height in meters :1.5\n",
            "your Bmi is  24.88888888888889\n",
            " You are FIT\n"
          ]
        }
      ]
    },
    {
      "cell_type": "code",
      "source": [
        "# Finding if a year is a Leap Year\n",
        "year = int (input(\"Enter the year:\"))\n",
        "if (year % 400 == 0):\n",
        "   print (\"Year is Leap Year\")\n",
        "elif (year % 4 == 0 and year % 100 != 0):\n",
        "   print (\"Year is Leap Year\")\n",
        "else:\n",
        "   print (\"Year is not Leap Year\") "
      ],
      "metadata": {
        "id": "Gu-jUMjEcIaX",
        "colab": {
          "base_uri": "https://localhost:8080/"
        },
        "outputId": "c2d8a985-1e6d-4309-c8a4-dd2f13328f49"
      },
      "execution_count": null,
      "outputs": [
        {
          "output_type": "stream",
          "name": "stdout",
          "text": [
            "Enter the year:2004\n",
            "Year is Leap Year\n"
          ]
        }
      ]
    },
    {
      "cell_type": "code",
      "source": [
        ""
      ],
      "metadata": {
        "id": "gOb3rf00k18_"
      },
      "execution_count": null,
      "outputs": []
    },
    {
      "cell_type": "code",
      "source": [
        "import datetime\n",
        "\n",
        "def wishMe(name):\n",
        "  hour = int(datetime.datetime.now().hour)\n",
        "  if hour>=0 and hour<12:\n",
        "       print(\"Good Morning\",name)\n",
        "\n",
        "  elif hour>=12 and hour<18:\n",
        "        print(\"Good Afternoon\",name)\n",
        "\n",
        "  else:\n",
        "        print(\"Good Night\")\n",
        "      \n",
        "wishMe(\"Sai\")\n",
        "print (\"Hope you are having a great time!!!\")\n",
        "\n",
        "\n"
      ],
      "metadata": {
        "colab": {
          "base_uri": "https://localhost:8080/"
        },
        "outputId": "ac407fe4-0914-4195-be0e-35713afad38d",
        "id": "B62XqpWXk3KX"
      },
      "execution_count": null,
      "outputs": [
        {
          "output_type": "stream",
          "name": "stdout",
          "text": [
            "Good Morning Sai\n",
            "Hope you are having a great time!!!\n"
          ]
        }
      ]
    },
    {
      "cell_type": "code",
      "source": [
        "import datetime\n",
        "\n",
        "\n",
        "def wish(names):\n",
        "    for name in names:\n",
        "        \n",
        "      hour = int(datetime.datetime.now().hour)\n",
        "      if hour >= 0 and hour<12:\n",
        "        print(\"Good Morning\", name.title())\n",
        "      elif hour >=12 and hour < 18:\n",
        "          print(\"Good Afternoon\", name.title())\n",
        "      else:\n",
        "          print(\"Good Evening\", name.title())\n",
        "      print(\"Hope you are doing' well\", )\n",
        "\n",
        "\n",
        "names = [\"SAI KUSHAL\",\n",
        "         \"Arvind Abhishek\" \n",
        "         \"JAMMI VISHAL\",]\n",
        "\n",
        "wish(names)"
      ],
      "metadata": {
        "id": "IXm78rQVeh2u",
        "colab": {
          "base_uri": "https://localhost:8080/"
        },
        "outputId": "44e02f53-a160-44f5-87aa-fd00302f8e0d"
      },
      "execution_count": null,
      "outputs": [
        {
          "output_type": "stream",
          "name": "stdout",
          "text": [
            "Good Morning Sai Kushal\n",
            "Hope you are doing' well\n",
            "Good Morning Arvind Abhishekjammi Vishal\n",
            "Hope you are doing' well\n"
          ]
        }
      ]
    },
    {
      "cell_type": "code",
      "source": [
        "import matplotlib.pyplot as plt\n",
        "import random\n"
      ],
      "metadata": {
        "id": "3dM-CxkHTe1t"
      },
      "execution_count": null,
      "outputs": []
    },
    {
      "cell_type": "code",
      "source": [
        "number = int(input(\"enter list length : \"))\n",
        "\n",
        "listQ=[]\n",
        "listAC = []\n",
        "listMC = []\n",
        "listMR = []\n",
        "listAR = []\n",
        "listP = []\n",
        "\n",
        "for i in range (number):\n",
        "    listQ.append(random.randint(a = 0 , b  = 10))\n",
        "    listAC.append(random.randint(a = 0 , b  = 500))\n",
        "    listMC.append(random.randint(a = 0 , b  = 100))\n",
        "    listMR.append(random.randint(a = 0 , b  = 170))\n",
        "    listAR.append(random.randint(a = 0 , b  = 150))\n",
        "    listP.append(random.randint(a = 0 , b  = 100))\n"
      ],
      "metadata": {
        "colab": {
          "base_uri": "https://localhost:8080/"
        },
        "id": "_0jq5wBi2hXZ",
        "outputId": "fd962cda-fa32-425e-990c-323375645ae3"
      },
      "execution_count": null,
      "outputs": [
        {
          "name": "stdout",
          "output_type": "stream",
          "text": [
            "enter list length : 4\n"
          ]
        }
      ]
    },
    {
      "cell_type": "code",
      "source": [
        "\n",
        "x = listQ\n",
        "y = listP\n",
        "y1 = listAR\n",
        "y2 = listMR\n",
        "y3 = listMC\n",
        "y4 = listAC \n",
        "\n",
        "plt.plot(x,y)\n",
        "plt.plot(x,y1)\n",
        "plt.plot(x,y2)\n",
        "plt.plot(x,y3)\n",
        "plt.plot(x,y4)\n",
        "plt.ylabel(\"price\")\n",
        "plt.xlabel(\"quantity\")\n",
        "plt.title(\"market structure\")\n",
        "plt.xlim(0,8)\n",
        "plt.ylim(-400,800)\n",
        "plt.legend()\n",
        "plt.show()\n",
        "\n"
      ],
      "metadata": {
        "colab": {
          "base_uri": "https://localhost:8080/",
          "height": 312
        },
        "id": "SMMtk3AgU3n8",
        "outputId": "f949d6f0-3aff-4b11-c8af-0b7020336b16"
      },
      "execution_count": null,
      "outputs": [
        {
          "output_type": "stream",
          "name": "stderr",
          "text": [
            "No handles with labels found to put in legend.\n"
          ]
        },
        {
          "output_type": "display_data",
          "data": {
            "text/plain": [
              "<Figure size 432x288 with 1 Axes>"
            ],
            "image/png": "[encoded data removed]"
          },
          "metadata": {
            "needs_background": "light"
          }
        }
      ]
    },
    {
      "cell_type": "code",
      "source": [
        "listQ=[]\n",
        "number = int(input(\"enter list length\"))\n",
        "print(\"Enter Quantity values\")\n",
        "for i in range (number):\n",
        "    data = int(input())\n",
        "    listQ.append(data)\n",
        "\n",
        "listP=[]\n",
        "number = int(input(\"enter list length\"))\n",
        "print(\"Enter Price values\")\n",
        "for i in range (number):\n",
        "    data = int(input())\n",
        "    listP.append(data)\n",
        "\n",
        "listAR=[]\n",
        "number = int(input(\"enter list length\"))\n",
        "print(\"Enter AR values\")\n",
        "for i in range (number):\n",
        "    data = int(input())\n",
        "    listAR.append(data)\n",
        "\n",
        "listMR=[]\n",
        "number = int(input(\"enter list length\"))\n",
        "print(\"Enter MR values\")\n",
        "for i in range (number):\n",
        "    data = int(input())\n",
        "    listMR.append(data)\n",
        "\n",
        "listMC=[]\n",
        "number = int(input(\"enter list length\"))\n",
        "print(\"Enter MC values\")\n",
        "for i in range (number):\n",
        "    data = int(input())\n",
        "    listMC.append(data)\n",
        "\n",
        "listAC=[]\n",
        "number = int(input(\"enter list length\"))\n",
        "print(\"Enter AC values\")\n",
        "for i in range (number):\n",
        "    data = int(input())\n",
        "    listAC.append(data)\n",
        "\n",
        "import matplotlib.pyplot as plt\n",
        "\n",
        "x = listQ\n",
        "y = listP\n",
        "y1 = listAR\n",
        "y2 = listMR\n",
        "y3 = listMC\n",
        "y4 = listAC \n",
        "plt.plot(x,y,linewidth='3',marker='D',label=\"Demand\"),\n",
        "plt.plot(x,y1,linewidth='3',marker='D',label=\"AR\")\n",
        "plt.plot(x,y2,linewidth='3',marker='D',label=\"MR\")\n",
        "plt.plot(x,y3,label=\"MC\")\n",
        "plt.plot(x,y4,label=\"AC\")\n",
        "plt.ylabel(\"price\")\n",
        "plt.xlabel(\"quantity\")\n",
        "plt.title(\"market structure\")\n",
        "plt.xlim(0,8)\n",
        "plt.ylim(-400,800)\n",
        "plt.legend()\n",
        "plt.show()\n",
        "\n"
      ],
      "metadata": {
        "id": "bzxCgQCjf51M",
        "colab": {
          "base_uri": "https://localhost:8080/",
          "height": 920
        },
        "outputId": "2cba605c-551f-49a0-9d5c-b84331ce4304"
      },
      "execution_count": null,
      "outputs": [
        {
          "name": "stdout",
          "output_type": "stream",
          "text": [
            "enter list length4\n",
            "Enter Quantity values\n",
            "1\n",
            "2\n",
            "3\n",
            "4\n",
            "enter list length4\n",
            "Enter Price values\n",
            "100\n",
            "200\n",
            "300\n",
            "400\n",
            "enter list length4\n",
            "Enter AR values\n",
            "400\n",
            "300\n",
            "200\n",
            "100\n",
            "enter list length4\n",
            "Enter MR values\n",
            "400\n",
            "200\n",
            "0\n",
            "-200\n",
            "enter list length4\n",
            "Enter MC values\n",
            "250\n",
            "200\n",
            "300\n",
            "500\n",
            "enter list length4\n",
            "Enter AC values\n",
            "500\n",
            "300\n",
            "200\n",
            "400\n"
          ]
        },
        {
          "output_type": "display_data",
          "data": {
            "text/plain": [
              "<Figure size 432x288 with 1 Axes>"
            ],
            "image/png": "[encoded data removed]"
          },
          "metadata": {
            "needs_background": "light"
          }
        }
      ]
    },
    {
      "cell_type": "code",
      "source": [
        ""
      ],
      "metadata": {
        "id": "eYXt7p4j1rcP"
      },
      "execution_count": null,
      "outputs": []
    },
    {
      "cell_type": "code",
      "source": [
        "import numpy as np\n",
        "import pandas as pd\n",
        "import matplotlib.pyplot as plt\n"
      ],
      "metadata": {
        "id": "b0FbFZH88Ue-"
      },
      "execution_count": null,
      "outputs": []
    },
    {
      "cell_type": "code",
      "source": [
        "from google.colab import drive\n",
        "drive.mount('/content/drive')\n",
        "data = pd.read_csv('Purval_company.csv')"
      ],
      "metadata": {
        "colab": {
          "base_uri": "https://localhost:8080/"
        },
        "id": "I68wEBNv8UgY",
        "outputId": "c88d5ccb-e62f-47f3-be96-f914b5c7a203"
      },
      "execution_count": null,
      "outputs": [
        {
          "output_type": "stream",
          "name": "stdout",
          "text": [
            "Drive already mounted at /content/drive; to attempt to forcibly remount, call drive.mount(\"/content/drive\", force_remount=True).\n"
          ]
        }
      ]
    },
    {
      "cell_type": "code",
      "source": [
        "data"
      ],
      "metadata": {
        "colab": {
          "base_uri": "https://localhost:8080/",
          "height": 269
        },
        "id": "0fbPfumy8Uh4",
        "outputId": "9d505663-e499-4491-fd84-744d995d7435"
      },
      "execution_count": null,
      "outputs": [
        {
          "output_type": "execute_result",
          "data": {
            "text/plain": [
              "       Items   Qs1   Qs2    Qs3   Qs4  Total sales   Qp1    Qp2    Qp3   Qp4  \\\n",
              "0       pen   1000  2000   1500  4000         8500  1000   2000   2000  4000   \n",
              "1     pencil  2000  2350   3400  3000        10750  3000   3000   4000  3000   \n",
              "2      books  5000  8000  10000  7000        30000  5000  10000  10000  7000   \n",
              "3     marker  3000  3500   1500  4000        12000  3000   4500   3000  5000   \n",
              "4  notebooks  4000  9000   7000  8000        28000  5000   9000   7000  8000   \n",
              "5     binder  5000  7000   8000  5000        25000  6000   7000   8000  5000   \n",
              "6    Caryons  2000  3000   4000  2500        11500  4000   3000   5000  3000   \n",
              "\n",
              "   Total Production  \n",
              "0              9000  \n",
              "1             13000  \n",
              "2             32000  \n",
              "3             15500  \n",
              "4             29000  \n",
              "5             26000  \n",
              "6             15000  "
            ],
            "text/html": [
              "\n",
              "  <div id=\"df-15606623-79b1-4c51-b138-9ab1896d262f\">\n",
              "    <div class=\"colab-df-container\">\n",
              "      <div>\n",
              "<style scoped>\n",
              "    .dataframe tbody tr th:only-of-type {\n",
              "        vertical-align: middle;\n",
              "    }\n",
              "\n",
              "    .dataframe tbody tr th {\n",
              "        vertical-align: top;\n",
              "    }\n",
              "\n",
              "    .dataframe thead th {\n",
              "        text-align: right;\n",
              "    }\n",
              "</style>\n",
              "<table border=\"1\" class=\"dataframe\">\n",
              "  <thead>\n",
              "    <tr style=\"text-align: right;\">\n",
              "      <th></th>\n",
              "      <th>Items</th>\n",
              "      <th>Qs1</th>\n",
              "      <th>Qs2</th>\n",
              "      <th>Qs3</th>\n",
              "      <th>Qs4</th>\n",
              "      <th>Total sales</th>\n",
              "      <th>Qp1</th>\n",
              "      <th>Qp2</th>\n",
              "      <th>Qp3</th>\n",
              "      <th>Qp4</th>\n",
              "      <th>Total Production</th>\n",
              "    </tr>\n",
              "  </thead>\n",
              "  <tbody>\n",
              "    <tr>\n",
              "      <th>0</th>\n",
              "      <td>pen</td>\n",
              "      <td>1000</td>\n",
              "      <td>2000</td>\n",
              "      <td>1500</td>\n",
              "      <td>4000</td>\n",
              "      <td>8500</td>\n",
              "      <td>1000</td>\n",
              "      <td>2000</td>\n",
              "      <td>2000</td>\n",
              "      <td>4000</td>\n",
              "      <td>9000</td>\n",
              "    </tr>\n",
              "    <tr>\n",
              "      <th>1</th>\n",
              "      <td>pencil</td>\n",
              "      <td>2000</td>\n",
              "      <td>2350</td>\n",
              "      <td>3400</td>\n",
              "      <td>3000</td>\n",
              "      <td>10750</td>\n",
              "      <td>3000</td>\n",
              "      <td>3000</td>\n",
              "      <td>4000</td>\n",
              "      <td>3000</td>\n",
              "      <td>13000</td>\n",
              "    </tr>\n",
              "    <tr>\n",
              "      <th>2</th>\n",
              "      <td>books</td>\n",
              "      <td>5000</td>\n",
              "      <td>8000</td>\n",
              "      <td>10000</td>\n",
              "      <td>7000</td>\n",
              "      <td>30000</td>\n",
              "      <td>5000</td>\n",
              "      <td>10000</td>\n",
              "      <td>10000</td>\n",
              "      <td>7000</td>\n",
              "      <td>32000</td>\n",
              "    </tr>\n",
              "    <tr>\n",
              "      <th>3</th>\n",
              "      <td>marker</td>\n",
              "      <td>3000</td>\n",
              "      <td>3500</td>\n",
              "      <td>1500</td>\n",
              "      <td>4000</td>\n",
              "      <td>12000</td>\n",
              "      <td>3000</td>\n",
              "      <td>4500</td>\n",
              "      <td>3000</td>\n",
              "      <td>5000</td>\n",
              "      <td>15500</td>\n",
              "    </tr>\n",
              "    <tr>\n",
              "      <th>4</th>\n",
              "      <td>notebooks</td>\n",
              "      <td>4000</td>\n",
              "      <td>9000</td>\n",
              "      <td>7000</td>\n",
              "      <td>8000</td>\n",
              "      <td>28000</td>\n",
              "      <td>5000</td>\n",
              "      <td>9000</td>\n",
              "      <td>7000</td>\n",
              "      <td>8000</td>\n",
              "      <td>29000</td>\n",
              "    </tr>\n",
              "    <tr>\n",
              "      <th>5</th>\n",
              "      <td>binder</td>\n",
              "      <td>5000</td>\n",
              "      <td>7000</td>\n",
              "      <td>8000</td>\n",
              "      <td>5000</td>\n",
              "      <td>25000</td>\n",
              "      <td>6000</td>\n",
              "      <td>7000</td>\n",
              "      <td>8000</td>\n",
              "      <td>5000</td>\n",
              "      <td>26000</td>\n",
              "    </tr>\n",
              "    <tr>\n",
              "      <th>6</th>\n",
              "      <td>Caryons</td>\n",
              "      <td>2000</td>\n",
              "      <td>3000</td>\n",
              "      <td>4000</td>\n",
              "      <td>2500</td>\n",
              "      <td>11500</td>\n",
              "      <td>4000</td>\n",
              "      <td>3000</td>\n",
              "      <td>5000</td>\n",
              "      <td>3000</td>\n",
              "      <td>15000</td>\n",
              "    </tr>\n",
              "  </tbody>\n",
              "</table>\n",
              "</div>\n",
              "      <button class=\"colab-df-convert\" onclick=\"convertToInteractive('df-15606623-79b1-4c51-b138-9ab1896d262f')\"\n",
              "              title=\"Convert this dataframe to an interactive table.\"\n",
              "              style=\"display:none;\">\n",
              "        \n",
              "  <svg xmlns=\"http://www.w3.org/2000/svg\" height=\"24px\"viewBox=\"0 0 24 24\"\n",
              "       width=\"24px\">\n",
              "    <path d=\"M0 0h24v24H0V0z\" fill=\"none\"/>\n",
              "    <path d=\"M18.56 5.44l.94 2.06.94-2.06 2.06-.94-2.06-.94-.94-2.06-.94 2.06-2.06.94zm-11 1L8.5 8.5l.94-2.06 2.06-.94-2.06-.94L8.5 2.5l-.94 2.06-2.06.94zm10 10l.94 2.06.94-2.06 2.06-.94-2.06-.94-.94-2.06-.94 2.06-2.06.94z\"/><path d=\"M17.41 7.96l-1.37-1.37c-.4-.4-.92-.59-1.43-.59-.52 0-1.04.2-1.43.59L10.3 9.45l-7.72 7.72c-.78.78-.78 2.05 0 2.83L4 21.41c.39.39.9.59 1.41.59.51 0 1.02-.2 1.41-.59l7.78-7.78 2.81-2.81c.8-.78.8-2.07 0-2.86zM5.41 20L4 18.59l7.72-7.72 1.47 1.35L5.41 20z\"/>\n",
              "  </svg>\n",
              "      </button>\n",
              "      \n",
              "  <style>\n",
              "    .colab-df-container {\n",
              "      display:flex;\n",
              "      flex-wrap:wrap;\n",
              "      gap: 12px;\n",
              "    }\n",
              "\n",
              "    .colab-df-convert {\n",
              "      background-color: #E8F0FE;\n",
              "      border: none;\n",
              "      border-radius: 50%;\n",
              "      cursor: pointer;\n",
              "      display: none;\n",
              "      fill: #1967D2;\n",
              "      height: 32px;\n",
              "      padding: 0 0 0 0;\n",
              "      width: 32px;\n",
              "    }\n",
              "\n",
              "    .colab-df-convert:hover {\n",
              "      background-color: #E2EBFA;\n",
              "      box-shadow: 0px 1px 2px rgba(60, 64, 67, 0.3), 0px 1px 3px 1px rgba(60, 64, 67, 0.15);\n",
              "      fill: #174EA6;\n",
              "    }\n",
              "\n",
              "    [theme=dark] .colab-df-convert {\n",
              "      background-color: #3B4455;\n",
              "      fill: #D2E3FC;\n",
              "    }\n",
              "\n",
              "    [theme=dark] .colab-df-convert:hover {\n",
              "      background-color: #434B5C;\n",
              "      box-shadow: 0px 1px 3px 1px rgba(0, 0, 0, 0.15);\n",
              "      filter: drop-shadow(0px 1px 2px rgba(0, 0, 0, 0.3));\n",
              "      fill: #FFFFFF;\n",
              "    }\n",
              "  </style>\n",
              "\n",
              "      <script>\n",
              "        const buttonEl =\n",
              "          document.querySelector('#df-15606623-79b1-4c51-b138-9ab1896d262f button.colab-df-convert');\n",
              "        buttonEl.style.display =\n",
              "          google.colab.kernel.accessAllowed ? 'block' : 'none';\n",
              "\n",
              "        async function convertToInteractive(key) {\n",
              "          const element = document.querySelector('#df-15606623-79b1-4c51-b138-9ab1896d262f');\n",
              "          const dataTable =\n",
              "            await google.colab.kernel.invokeFunction('convertToInteractive',\n",
              "                                                     [key], {});\n",
              "          if (!dataTable) return;\n",
              "\n",
              "          const docLinkHtml = 'Like what you see? Visit the ' +\n",
              "            '<a target=\"_blank\" href=https://colab.research.google.com/notebooks/data_table.ipynb>data table notebook</a>'\n",
              "            + ' to learn more about interactive tables.';\n",
              "          element.innerHTML = '';\n",
              "          dataTable['output_type'] = 'display_data';\n",
              "          await google.colab.output.renderOutput(dataTable, element);\n",
              "          const docLink = document.createElement('div');\n",
              "          docLink.innerHTML = docLinkHtml;\n",
              "          element.appendChild(docLink);\n",
              "        }\n",
              "      </script>\n",
              "    </div>\n",
              "  </div>\n",
              "  "
            ]
          },
          "metadata": {},
          "execution_count": 18
        }
      ]
    },
    {
      "cell_type": "code",
      "source": [
        "items=data[\"Items\"]\n",
        "q1= data['Qs1']\n",
        "q2= data['Qs2']\n",
        "q3= data['Qs3']\n",
        "q4= data['Qs4']\n",
        "totalsales= data['Total sales']\n",
        "x=np.arange(len(q1))\n",
        "x2=x\n",
        "w=0.2\n",
        "plt.bar(x,q1,width=w)\n",
        "x=x+w\n",
        "plt.bar(x,q2,width=w)\n",
        "x=x+w\n",
        "plt.bar(x,q3,width=w)\n",
        "x=x+w\n",
        "plt.bar(x,q4,width=w)\n"
      ],
      "metadata": {
        "colab": {
          "base_uri": "https://localhost:8080/",
          "height": 282
        },
        "id": "hK7OUK9ILOpN",
        "outputId": "0ed72055-868e-490a-b493-c7f0bb87f1d5"
      },
      "execution_count": null,
      "outputs": [
        {
          "output_type": "execute_result",
          "data": {
            "text/plain": [
              "<BarContainer object of 7 artists>"
            ]
          },
          "metadata": {},
          "execution_count": 19
        },
        {
          "output_type": "display_data",
          "data": {
            "text/plain": [
              "<Figure size 432x288 with 1 Axes>"
            ],
            "image/png": "[encoded data removed]"
          },
          "metadata": {
            "needs_background": "light"
          }
        }
      ]
    },
    {
      "cell_type": "code",
      "source": [
        "\n",
        "q5= data['Qp1']\n",
        "q6= data['Qp2']\n",
        "q7= data['Qp3']\n",
        "q8= data['Qp4']\n",
        "totalproduction= data['Total Production']\n",
        "x=np.arange(len(q5))\n",
        "x2=x\n",
        "w=0.2\n",
        "plt.bar(x,q5,width=w)\n",
        "x=x+w\n",
        "plt.bar(x,q6,width=w)\n",
        "x=x+w\n",
        "plt.bar(x,q7,width=w)\n",
        "x=x+w\n",
        "plt.bar(x,q8,width=w)\n"
      ],
      "metadata": {
        "id": "yCT4F_ShVnOT"
      },
      "execution_count": null,
      "outputs": []
    }
  ]
}